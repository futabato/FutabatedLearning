{
 "cells": [
  {
   "cell_type": "code",
   "execution_count": null,
   "metadata": {},
   "outputs": [],
   "source": [
    "from typing import Any\n",
    "\n",
    "import matplotlib.pyplot as plt\n",
    "import pandas as pd\n",
    "import torch\n",
    "from federatedlearning.models.cnn import CNNMnist\n",
    "from hydra import compose, initialize\n",
    "from nptyping import DataFrame\n",
    "from omegaconf import OmegaConf\n",
    "from scipy.stats import linregress"
   ]
  },
  {
   "cell_type": "code",
   "execution_count": null,
   "metadata": {},
   "outputs": [],
   "source": [
    "# hydra global initialization\n",
    "# config_path in initialize() must be relative\n",
    "initialize(version_base=\"1.1\", config_path=\"../config\", job_name=\"jupyterlab\")\n",
    "cfg: OmegaConf = compose(config_name=\"default\")"
   ]
  },
  {
   "cell_type": "code",
   "execution_count": null,
   "metadata": {},
   "outputs": [],
   "source": [
    "client_num: int = cfg.federatedlearning.num_clients\n",
    "client_behavior_df: list[DataFrame] = [\n",
    "    pd.read_csv(f\"/workspace/outputs/csv/client_{client_i}_behavior.csv\")\n",
    "    for client_i in range(client_num)\n",
    "]"
   ]
  },
  {
   "cell_type": "code",
   "execution_count": null,
   "metadata": {},
   "outputs": [],
   "source": [
    "# client 0\n",
    "client_behavior_df[0].info()"
   ]
  },
  {
   "cell_type": "markdown",
   "metadata": {},
   "source": [
    "## Time-Series Analysis"
   ]
  },
  {
   "cell_type": "code",
   "execution_count": null,
   "metadata": {},
   "outputs": [],
   "source": [
    "def log_total_distances(\n",
    "    global_model: CNNMnist | Any, local_model: CNNMnist | Any\n",
    ") -> float:\n",
    "    \"\"\"\n",
    "    Calculate the total Euclidean distance between the parameters of two models.\n",
    "\n",
    "    This function assumes that both models have the same architecture and they\n",
    "    are instances of the class `CNNMnist` or any other class with an accessible\n",
    "    `named_parameters()` method providing name-parameter pairs.\n",
    "\n",
    "    Args:\n",
    "        global_model (CNNMnist|Any): The global model.\n",
    "        local_model (CNNMnist|Any): The local model updated by a client.\n",
    "\n",
    "    Returns:\n",
    "        float: The total Euclidean distance between the parameters of the two models.\n",
    "    \"\"\"\n",
    "    # Initialize the distance to zero.\n",
    "    distance: float = 0.0\n",
    "\n",
    "    # Iterate over the named parameters of both models simultaneously.\n",
    "    for (layer_global, param_global), (layer_local, param_local) in zip(\n",
    "        global_model.named_parameters(), local_model.named_parameters()\n",
    "    ):\n",
    "        # Ensure the layers compared are corresponding layers by checking their names.\n",
    "        assert layer_global == layer_local, \"Layer names do not match\"\n",
    "\n",
    "        # Calculate Euclidean distance for the current layer's parameters and add to the total distance.\n",
    "        # p=2 specifies that this is the L2 norm, which corresponds to Euclidean distance.\n",
    "        distance += torch.norm(param_global - param_local, p=2).item()\n",
    "\n",
    "    # Return the total Euclidean distance calculated.\n",
    "    return distance"
   ]
  },
  {
   "cell_type": "code",
   "execution_count": null,
   "metadata": {},
   "outputs": [],
   "source": [
    "client_id: int = 15  # byzantine client < 12\n",
    "num_rounds: int = cfg.federatedlearning.rounds\n",
    "euclidean_distance_list: list[float] = []\n",
    "\n",
    "for round in range(num_rounds - 1):\n",
    "    if round > 0:\n",
    "        local_model = CNNMnist(cfg)\n",
    "        local_model.load_state_dict(\n",
    "            torch.load(\n",
    "                client_behavior_df[client_id][\"local_weight_path\"][round]\n",
    "            )\n",
    "        )\n",
    "\n",
    "        global_model = CNNMnist(cfg)\n",
    "        global_model.load_state_dict(\n",
    "            torch.load(\n",
    "                f\"/workspace/outputs/weights/server/global_model_round_{round-1}.pth\"\n",
    "            )\n",
    "        )\n",
    "\n",
    "        euclidean_distance_list.append(\n",
    "            log_total_distances(global_model, local_model)\n",
    "        )\n",
    "print(f\"{client_id=}, {num_rounds=}, {euclidean_distance_list=}\")"
   ]
  },
  {
   "cell_type": "code",
   "execution_count": null,
   "metadata": {},
   "outputs": [],
   "source": [
    "plt.plot(euclidean_distance_list)\n",
    "plt.xlabel(\"round\")\n",
    "plt.ylabel(\"euclidean_distance\")\n",
    "plt.title(f\"Euclidean distance between Client {client_id} and Global Model\")\n",
    "plt.show()"
   ]
  },
  {
   "cell_type": "code",
   "execution_count": null,
   "metadata": {},
   "outputs": [],
   "source": [
    "def monitore_time_series(\n",
    "    client_id: int, num_rounds: int = cfg.federatedlearning.rounds\n",
    ") -> list[float]:\n",
    "    euclidean_distance_list: list[float] = []\n",
    "\n",
    "    for round in range(num_rounds - 1):\n",
    "        if round > 0:\n",
    "            local_model = CNNMnist(cfg)\n",
    "            local_model.load_state_dict(\n",
    "                torch.load(\n",
    "                    client_behavior_df[client_id][\"local_weight_path\"][round]\n",
    "                )\n",
    "            )\n",
    "\n",
    "            global_model = CNNMnist(cfg)\n",
    "            global_model.load_state_dict(\n",
    "                torch.load(\n",
    "                    f\"/workspace/outputs/weights/server/global_model_round_{round-1}.pth\"\n",
    "                )\n",
    "            )\n",
    "\n",
    "            euclidean_distance_list.append(\n",
    "                log_total_distances(global_model, local_model)\n",
    "            )\n",
    "\n",
    "    return euclidean_distance_list"
   ]
  },
  {
   "cell_type": "code",
   "execution_count": null,
   "metadata": {},
   "outputs": [],
   "source": [
    "nrows: int = 4\n",
    "ncols: int = 5\n",
    "fig, axes = plt.subplots(\n",
    "    nrows=nrows, ncols=ncols, figsize=(25, 20), sharex=\"all\", sharey=\"all\"\n",
    ")\n",
    "axes = axes.reshape(-1)\n",
    "for client in range(cfg.federatedlearning.num_clients):\n",
    "    axes[client].plot(monitore_time_series(client_id=client))\n",
    "    axes[client].set_title(f\"Client {client}\")\n",
    "    axes[client].set_xlabel(\"round\")\n",
    "    axes[client].set_ylabel(\"euclidean_distance\")\n",
    "fig.suptitle(\n",
    "    f\"Euclidean distance between each Client and Global Model\\n byzantine client index <= {cfg.federatedlearning.num_byzantines}\"\n",
    ")\n",
    "plt.show()"
   ]
  },
  {
   "cell_type": "code",
   "execution_count": null,
   "metadata": {},
   "outputs": [],
   "source": [
    "client_id: int = 0  # byzantine client < 12\n",
    "num_rounds: int = cfg.federatedlearning.rounds\n",
    "euclidean_distance_list: list[float] = []\n",
    "\n",
    "for round in range(num_rounds - 1):\n",
    "    if round > 0:\n",
    "        local_model = CNNMnist(cfg)\n",
    "        local_model.load_state_dict(\n",
    "            torch.load(\n",
    "                client_behavior_df[client_id][\"local_weight_path\"][round]\n",
    "            )\n",
    "        )\n",
    "\n",
    "        global_model = CNNMnist(cfg)\n",
    "        global_model.load_state_dict(\n",
    "            torch.load(\n",
    "                f\"/workspace/outputs/weights/server/global_model_round_{round-1}.pth\"\n",
    "            )\n",
    "        )\n",
    "\n",
    "        euclidean_distance_list.append(\n",
    "            log_total_distances(global_model, local_model)\n",
    "        )\n",
    "\n",
    "time_series_threshold: float = 2.0\n",
    "for round in range(num_rounds - 2):\n",
    "    slope, _, _, _, std_err = linregress(\n",
    "        [round, round + 1],\n",
    "        [euclidean_distance_list[round], euclidean_distance_list[round + 1]],\n",
    "    )\n",
    "    print(f\"{client_id=}, {round=}, {slope=}\")\n",
    "    if slope >= time_series_threshold:\n",
    "        print(f\"CLIENT {client_id} is BYZANTINE CLIENT!!!\")\n",
    "        break"
   ]
  },
  {
   "cell_type": "code",
   "execution_count": null,
   "metadata": {},
   "outputs": [],
   "source": [
    "time_series_threshold: float = 2.0\n",
    "nrows: int = 4\n",
    "ncols: int = 5\n",
    "fig, axes = plt.subplots(\n",
    "    nrows=nrows, ncols=ncols, figsize=(25, 20), sharex=\"all\", sharey=\"all\"\n",
    ")\n",
    "axes = axes.reshape(-1)\n",
    "for client in range(cfg.federatedlearning.num_clients):\n",
    "    euclidean_distance_list = monitore_time_series(client_id=client)\n",
    "    for round in range(cfg.federatedlearning.rounds - 2):\n",
    "        if round > 0:\n",
    "            slope, _, _, _, std_err = linregress(\n",
    "                [round - 1, round],\n",
    "                [\n",
    "                    euclidean_distance_list[round - 1],\n",
    "                    euclidean_distance_list[round],\n",
    "                ],\n",
    "            )\n",
    "            if slope >= time_series_threshold:\n",
    "                print(f\"CLIENT {client} is BYZANTINE CLIENT!!!\")\n",
    "            axes[client].plot(euclidean_distance_list)\n",
    "            axes[client].set_title(f\"Client {client}\")\n",
    "            axes[client].set_xlabel(\"round\")\n",
    "            axes[client].set_ylabel(\"euclidean_distance\")\n",
    "fig.suptitle(\n",
    "    f\"Euclidean distance between each Client and Global Model\\n\\byzantine client index < {cfg.federatedlearning.num_byzantines}\"\n",
    ")\n",
    "plt.show()"
   ]
  }
 ],
 "metadata": {
  "kernelspec": {
   "display_name": ".venv",
   "language": "python",
   "name": "python3"
  },
  "language_info": {
   "codemirror_mode": {
    "name": "ipython",
    "version": 3
   },
   "file_extension": ".py",
   "mimetype": "text/x-python",
   "name": "python",
   "nbconvert_exporter": "python",
   "pygments_lexer": "ipython3",
   "version": "3.11.7"
  }
 },
 "nbformat": 4,
 "nbformat_minor": 2
}
