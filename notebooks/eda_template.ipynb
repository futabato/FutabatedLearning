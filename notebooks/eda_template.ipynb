{
 "cells": [
  {
   "cell_type": "code",
   "execution_count": null,
   "metadata": {},
   "outputs": [],
   "source": [
    "import hydra\n",
    "import pandas as pd\n",
    "from hydra import compose, initialize\n",
    "from nptyping import DataFrame\n",
    "from omegaconf import OmegaConf"
   ]
  },
  {
   "cell_type": "code",
   "execution_count": null,
   "metadata": {},
   "outputs": [],
   "source": [
    "EXPERIMENT_ID = \"\"\n",
    "RUN_ID = \"\""
   ]
  },
  {
   "cell_type": "code",
   "execution_count": null,
   "metadata": {},
   "outputs": [],
   "source": [
    "# hydra global initialization\n",
    "hydra.core.global_hydra.GlobalHydra.instance().clear()\n",
    "# config_path in initialize() must be relative\n",
    "initialize(\n",
    "    version_base=\"1.1\",\n",
    "    config_path=f\"../mlruns/{EXPERIMENT_ID}/{RUN_ID}/artifacts\",\n",
    "    job_name=\"jupyterlab\",\n",
    ")\n",
    "cfg: OmegaConf = compose(config_name=\"config\")\n",
    "print(OmegaConf.to_yaml(cfg))"
   ]
  },
  {
   "cell_type": "code",
   "execution_count": null,
   "metadata": {},
   "outputs": [],
   "source": [
    "client_history_df: list[DataFrame] = [\n",
    "    pd.read_csv(\n",
    "        f\"/workspace/mlruns/{EXPERIMENT_ID}/{RUN_ID}/artifacts/client_{client_id}_history.csv\"\n",
    "    )\n",
    "    for client_id in range(cfg.federatedlearning.num_clients)\n",
    "]"
   ]
  },
  {
   "cell_type": "code",
   "execution_count": null,
   "metadata": {},
   "outputs": [],
   "source": [
    "global_model_record_df: DataFrame = pd.read_csv(\n",
    "    f\"/workspace/mlruns/{EXPERIMENT_ID}/{RUN_ID}/artifacts/server_record.csv\"\n",
    ")"
   ]
  },
  {
   "cell_type": "code",
   "execution_count": null,
   "metadata": {},
   "outputs": [],
   "source": []
  }
 ],
 "metadata": {
  "kernelspec": {
   "display_name": ".venv",
   "language": "python",
   "name": "python3"
  },
  "language_info": {
   "codemirror_mode": {
    "name": "ipython",
    "version": 3
   },
   "file_extension": ".py",
   "mimetype": "text/x-python",
   "name": "python",
   "nbconvert_exporter": "python",
   "pygments_lexer": "ipython3",
   "version": "3.11.7"
  }
 },
 "nbformat": 4,
 "nbformat_minor": 2
}
