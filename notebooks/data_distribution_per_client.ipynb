{
 "cells": [
  {
   "cell_type": "code",
   "execution_count": null,
   "metadata": {},
   "outputs": [],
   "source": [
    "import numpy as np\n",
    "import matplotlib.pyplot as plt\n",
    "import hydra\n",
    "import seaborn as sns\n",
    "from federatedlearning.datasets.common import get_dataset\n",
    "from hydra import compose, initialize\n",
    "from omegaconf import OmegaConf"
   ]
  },
  {
   "cell_type": "code",
   "execution_count": null,
   "metadata": {},
   "outputs": [],
   "source": [
    "EXPERIMENT_ID = \"\"\n",
    "RUN_ID = \"\""
   ]
  },
  {
   "cell_type": "code",
   "execution_count": null,
   "metadata": {},
   "outputs": [],
   "source": [
    "# hydra global initialization\n",
    "hydra.core.global_hydra.GlobalHydra.instance().clear()\n",
    "# config_path in initialize() must be relative\n",
    "initialize(\n",
    "    version_base=\"1.1\",\n",
    "    config_path=f\"../mlruns/{EXPERIMENT_ID}/{RUN_ID}/artifacts\",\n",
    "    job_name=\"jupyterlab\",\n",
    ")\n",
    "cfg: OmegaConf = compose(config_name=\"config\")\n",
    "print(OmegaConf.to_yaml(cfg))"
   ]
  },
  {
   "cell_type": "code",
   "execution_count": null,
   "metadata": {},
   "outputs": [],
   "source": [
    "# Get Dataset\n",
    "train_dataset, _, client_groups = get_dataset(cfg)\n",
    "\n",
    "# Get number of clients and classes\n",
    "num_clients = cfg.federatedlearning.num_clients\n",
    "num_classes = len(np.unique(train_dataset.targets))\n",
    "\n",
    "# Collect label data for each client\n",
    "label_counts = np.zeros((num_clients, num_classes), dtype=int)\n",
    "for client_id in range(num_clients):\n",
    "    labels = [\n",
    "        train_dataset.targets[int(idx)] for idx in client_groups[client_id]\n",
    "    ]\n",
    "    for label in labels:\n",
    "        label_counts[client_id, label] += 1\n",
    "\n",
    "# Calculate the percentage of data each client has\n",
    "label_ratios = label_counts / label_counts.sum(axis=1, keepdims=True)\n",
    "\n",
    "# Visualize\n",
    "plt.figure(figsize=(15, 10))\n",
    "sns.heatmap(\n",
    "    label_ratios,\n",
    "    annot=True,\n",
    "    fmt=\".2f\",\n",
    "    cmap=\"YlGnBu\",\n",
    "    xticklabels=[f\"Class {i}\" for i in range(num_classes)],\n",
    "    yticklabels=[f\"Client {i}\" for i in range(num_clients)],\n",
    ")\n",
    "\n",
    "plt.title(\"Data Distribution per Client (Proportion)\")\n",
    "plt.xlabel(\"Class\")\n",
    "plt.ylabel(\"Client ID\")\n",
    "plt.tight_layout()\n",
    "\n",
    "# Save this figure\n",
    "save_path = \"/workspace/outputs/data_distribution_per_client.png\"\n",
    "plt.savefig(save_path)\n",
    "\n",
    "plt.show()"
   ]
  }
 ],
 "metadata": {
  "kernelspec": {
   "display_name": "Python 3",
   "language": "python",
   "name": "python3"
  },
  "language_info": {
   "codemirror_mode": {
    "name": "ipython",
    "version": 3
   },
   "file_extension": ".py",
   "mimetype": "text/x-python",
   "name": "python",
   "nbconvert_exporter": "python",
   "pygments_lexer": "ipython3",
   "version": "3.11.7"
  }
 },
 "nbformat": 4,
 "nbformat_minor": 2
}
